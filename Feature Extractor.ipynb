{
 "cells": [
  {
   "cell_type": "code",
   "execution_count": 2,
   "metadata": {
    "collapsed": true
   },
   "outputs": [],
   "source": [
    "# translation of the Matlab feature extractor\n",
    "import sys\n",
    "import os\n",
    "import numpy as np\n",
    "import pandas as pd\n",
    "from math import *\n",
    "from scipy.io import loadmat\n",
    "from scipy.stats import skew, kurtosis\n",
    "#import pyeeg \n",
    "# pyeeg is the one that has very good fractal dimensions \n",
    "# computation but not installed here"
   ]
  },
  {
   "cell_type": "code",
   "execution_count": 3,
   "metadata": {
    "collapsed": true
   },
   "outputs": [],
   "source": [
    "def mat_to_data(path):\n",
    "    mat = loadmat(path)\n",
    "    names = mat['dataStruct'].dtype.names\n",
    "    ndata = {n: mat['dataStruct'][n][0, 0] for n in names}\n",
    "    return ndata\n",
    "\n",
    "def corr(data,type_corr):\n",
    "    C = np.array(data.corr(type_corr))\n",
    "    C[np.isnan(C)] = 0\n",
    "    C[np.isinf(C)] = 0\n",
    "    w,v = np.linalg.eig(C)\n",
    "    #print(w)\n",
    "    x = np.sort(w)\n",
    "    x = np.real(x)\n",
    "    return x"
   ]
  },
  {
   "cell_type": "code",
   "execution_count": 4,
   "metadata": {
    "collapsed": true
   },
   "outputs": [],
   "source": [
    "def calculate_features(file_name):\n",
    "    f = mat_to_data(file_name)\n",
    "    fs = f['iEEGsamplingRate'][0,0]\n",
    "    eegData = f['data']\n",
    "    [nt, nc] = eegData.shape\n",
    "    print((nt, nc))\n",
    "    subsampLen = floor(fs * 60)\n",
    "    numSamps = int(floor(nt / subsampLen));      # Num of 1-min samples\n",
    "    sampIdx = range(0,(numSamps+1)*subsampLen,subsampLen)\n",
    "    #print(sampIdx)\n",
    "    feat = [] # Feature Vector\n",
    "    for i in range(1, numSamps+1):\n",
    "        print('processing file {} epoch {}'.format(file_name,i))\n",
    "        epoch = eegData[sampIdx[i-1]:sampIdx[i], :]\n",
    "\n",
    "        # compute Shannon's entropy, spectral edge and correlation matrix\n",
    "        # segments corresponding to frequency bands\n",
    "        lvl = np.array([0.1, 4, 8, 12, 30, 70, 180])  # Frequency levels in Hz\n",
    "        lseg = np.round(nt/fs*lvl).astype('int')\n",
    "        D = np.absolute(np.fft.fft(epoch, n=lseg[-1], axis=0))\n",
    "        D[0,:]=0                                # set the DC component to zero\n",
    "        D /= D.sum()                      # Normalize each channel               \n",
    "        \n",
    "        dspect = np.zeros((len(lvl)-1,nc))\n",
    "        for j in range(len(dspect)):\n",
    "            dspect[j,:] = 2*np.sum(D[lseg[j]:lseg[j+1],:], axis=0)\n",
    "\n",
    "        # Find the shannon's entropy\n",
    "        spentropy = -1*np.sum(np.multiply(dspect,np.log(dspect)), axis=0)\n",
    "\n",
    "        # Find the spectral edge frequency\n",
    "        sfreq = fs\n",
    "        tfreq = 40\n",
    "        ppow = 0.5\n",
    "\n",
    "        topfreq = int(round(nt/sfreq*tfreq))+1\n",
    "        A = np.cumsum(D[:topfreq,:])\n",
    "        B = A - (A.max()*ppow)\n",
    "        spedge = np.min(np.abs(B))\n",
    "        spedge = (spedge - 1)/(topfreq-1)*tfreq\n",
    "\n",
    "        # Calculate correlation matrix and its eigenvalues (b/w channels)\n",
    "        data = pd.DataFrame(data=epoch)\n",
    "        type_corr = 'pearson'\n",
    "        lxchannels = corr(data, type_corr)\n",
    "        \n",
    "        # Calculate correlation matrix and its eigenvalues (b/w freq)\n",
    "        data = pd.DataFrame(data=dspect)\n",
    "        lxfreqbands = corr(data, type_corr)\n",
    "        \n",
    "        # Spectral entropy for dyadic bands\n",
    "        # Find number of dyadic levels\n",
    "        ldat = int(floor(nt/2.0))\n",
    "        no_levels = int(floor(log(ldat,2.0)))\n",
    "        seg = floor(ldat/pow(2.0, no_levels-1))\n",
    "\n",
    "        # Find the power spectrum at each dyadic level\n",
    "        dspect = np.zeros((no_levels,nc))\n",
    "        for j in range(no_levels-1,-1,-1):\n",
    "            dspect[j,:] = 2*np.sum(D[int(floor(ldat/2.0))+1:ldat,:], axis=0)\n",
    "            ldat = int(floor(ldat/2.0))\n",
    "\n",
    "        # Find the Shannon's entropy\n",
    "        spentropyDyd = -1*np.sum(np.multiply(dspect,np.log(dspect)), axis=0)\n",
    "\n",
    "        # Find correlation between channels\n",
    "        data = pd.DataFrame(data=dspect)\n",
    "        lxchannelsDyd = corr(data, type_corr)\n",
    "        \n",
    "        # Fractal dimensions\n",
    "        no_channels = nc\n",
    "        #fd = np.zeros((2,no_channels))\n",
    "        #for j in range(no_channels):\n",
    "        #    fd[0,j] = pyeeg.pfd(epoch[:,j])\n",
    "        #    fd[1,j] = pyeeg.hfd(epoch[:,j],3)\n",
    "        #    fd[2,j] = pyeeg.hurst(epoch[:,j])\n",
    "\n",
    "        #[mobility[j], complexity[j]] = pyeeg.hjorth(epoch[:,j)\n",
    "        # Hjorth parameters\n",
    "        # Activity\n",
    "        activity = np.var(epoch, axis=0)\n",
    "        #print('Activity shape: {}'.format(activity.shape))\n",
    "        # Mobility\n",
    "        mobility = np.divide(\n",
    "                            np.std(np.diff(epoch, axis=0)), \n",
    "                            np.std(epoch, axis=0))\n",
    "        #print('Mobility shape: {}'.format(mobility.shape))\n",
    "        # Complexity\n",
    "        complexity = np.divide(np.divide(\n",
    "                                        # std of second derivative for each channel\n",
    "                                        np.std(np.diff(np.diff(epoch, axis=0), axis=0), axis=0),\n",
    "                                        # std of second derivative for each channel\n",
    "                                        np.std(np.diff(epoch, axis=0), axis=0))\n",
    "                               , mobility)\n",
    "        #print('Complexity shape: {}'.format(complexity.shape))\n",
    "        # Statistical properties\n",
    "        # Skewness\n",
    "        sk = skew(epoch)\n",
    "\n",
    "        # Kurtosis\n",
    "        kurt = kurtosis(epoch)\n",
    "\n",
    "        # compile all the features\n",
    "        feat = np.concatenate((feat,\n",
    "                               spentropy.ravel(),\n",
    "                               spedge.ravel(),\n",
    "                               lxchannels.ravel(),\n",
    "                               lxfreqbands.ravel(),\n",
    "                               spentropyDyd.ravel(),\n",
    "                               lxchannelsDyd.ravel(),\n",
    "                               #fd.ravel(),\n",
    "                               activity.ravel(),\n",
    "                               mobility.ravel(),\n",
    "                               complexity.ravel(),\n",
    "                               sk.ravel(),\n",
    "                               kurt.ravel()\n",
    "                                ))\n",
    "\n",
    "    return feat"
   ]
  },
  {
   "cell_type": "code",
   "execution_count": 5,
   "metadata": {
    "collapsed": false
   },
   "outputs": [
    {
     "ename": "IOError",
     "evalue": "[Errno 2] No such file or directory: '../input/train_1/1_1_1.mat'",
     "output_type": "error",
     "traceback": [
      "\u001b[1;31m---------------------------------------------------------------------------\u001b[0m",
      "\u001b[1;31mIOError\u001b[0m                                   Traceback (most recent call last)",
      "\u001b[1;32m<ipython-input-5-a908d08ae2eb>\u001b[0m in \u001b[0;36m<module>\u001b[1;34m()\u001b[0m\n\u001b[1;32m----> 1\u001b[1;33m \u001b[0mfeat\u001b[0m \u001b[1;33m=\u001b[0m \u001b[0mcalculate_features\u001b[0m\u001b[1;33m(\u001b[0m\u001b[1;34m'../input/train_1/1_1_1.mat'\u001b[0m\u001b[1;33m)\u001b[0m\u001b[1;33m\u001b[0m\u001b[0m\n\u001b[0m\u001b[0;32m      2\u001b[0m \u001b[1;32mprint\u001b[0m\u001b[1;33m(\u001b[0m\u001b[0mfeat\u001b[0m\u001b[1;33m)\u001b[0m\u001b[1;33m\u001b[0m\u001b[0m\n\u001b[0;32m      3\u001b[0m \u001b[1;32mprint\u001b[0m\u001b[1;33m(\u001b[0m\u001b[0mfeat\u001b[0m\u001b[1;33m.\u001b[0m\u001b[0mshape\u001b[0m\u001b[1;33m)\u001b[0m\u001b[1;33m\u001b[0m\u001b[0m\n",
      "\u001b[1;32m<ipython-input-4-53c1c11d57cd>\u001b[0m in \u001b[0;36mcalculate_features\u001b[1;34m(file_name)\u001b[0m\n\u001b[0;32m      1\u001b[0m \u001b[1;32mdef\u001b[0m \u001b[0mcalculate_features\u001b[0m\u001b[1;33m(\u001b[0m\u001b[0mfile_name\u001b[0m\u001b[1;33m)\u001b[0m\u001b[1;33m:\u001b[0m\u001b[1;33m\u001b[0m\u001b[0m\n\u001b[1;32m----> 2\u001b[1;33m     \u001b[0mf\u001b[0m \u001b[1;33m=\u001b[0m \u001b[0mmat_to_data\u001b[0m\u001b[1;33m(\u001b[0m\u001b[0mfile_name\u001b[0m\u001b[1;33m)\u001b[0m\u001b[1;33m\u001b[0m\u001b[0m\n\u001b[0m\u001b[0;32m      3\u001b[0m     \u001b[0mfs\u001b[0m \u001b[1;33m=\u001b[0m \u001b[0mf\u001b[0m\u001b[1;33m[\u001b[0m\u001b[1;34m'iEEGsamplingRate'\u001b[0m\u001b[1;33m]\u001b[0m\u001b[1;33m[\u001b[0m\u001b[1;36m0\u001b[0m\u001b[1;33m,\u001b[0m\u001b[1;36m0\u001b[0m\u001b[1;33m]\u001b[0m\u001b[1;33m\u001b[0m\u001b[0m\n\u001b[0;32m      4\u001b[0m     \u001b[0meegData\u001b[0m \u001b[1;33m=\u001b[0m \u001b[0mf\u001b[0m\u001b[1;33m[\u001b[0m\u001b[1;34m'data'\u001b[0m\u001b[1;33m]\u001b[0m\u001b[1;33m\u001b[0m\u001b[0m\n\u001b[0;32m      5\u001b[0m     \u001b[1;33m[\u001b[0m\u001b[0mnt\u001b[0m\u001b[1;33m,\u001b[0m \u001b[0mnc\u001b[0m\u001b[1;33m]\u001b[0m \u001b[1;33m=\u001b[0m \u001b[0meegData\u001b[0m\u001b[1;33m.\u001b[0m\u001b[0mshape\u001b[0m\u001b[1;33m\u001b[0m\u001b[0m\n",
      "\u001b[1;32m<ipython-input-3-a19810192f34>\u001b[0m in \u001b[0;36mmat_to_data\u001b[1;34m(path)\u001b[0m\n\u001b[0;32m      1\u001b[0m \u001b[1;32mdef\u001b[0m \u001b[0mmat_to_data\u001b[0m\u001b[1;33m(\u001b[0m\u001b[0mpath\u001b[0m\u001b[1;33m)\u001b[0m\u001b[1;33m:\u001b[0m\u001b[1;33m\u001b[0m\u001b[0m\n\u001b[1;32m----> 2\u001b[1;33m     \u001b[0mmat\u001b[0m \u001b[1;33m=\u001b[0m \u001b[0mloadmat\u001b[0m\u001b[1;33m(\u001b[0m\u001b[0mpath\u001b[0m\u001b[1;33m)\u001b[0m\u001b[1;33m\u001b[0m\u001b[0m\n\u001b[0m\u001b[0;32m      3\u001b[0m     \u001b[0mnames\u001b[0m \u001b[1;33m=\u001b[0m \u001b[0mmat\u001b[0m\u001b[1;33m[\u001b[0m\u001b[1;34m'dataStruct'\u001b[0m\u001b[1;33m]\u001b[0m\u001b[1;33m.\u001b[0m\u001b[0mdtype\u001b[0m\u001b[1;33m.\u001b[0m\u001b[0mnames\u001b[0m\u001b[1;33m\u001b[0m\u001b[0m\n\u001b[0;32m      4\u001b[0m     \u001b[0mndata\u001b[0m \u001b[1;33m=\u001b[0m \u001b[1;33m{\u001b[0m\u001b[0mn\u001b[0m\u001b[1;33m:\u001b[0m \u001b[0mmat\u001b[0m\u001b[1;33m[\u001b[0m\u001b[1;34m'dataStruct'\u001b[0m\u001b[1;33m]\u001b[0m\u001b[1;33m[\u001b[0m\u001b[0mn\u001b[0m\u001b[1;33m]\u001b[0m\u001b[1;33m[\u001b[0m\u001b[1;36m0\u001b[0m\u001b[1;33m,\u001b[0m \u001b[1;36m0\u001b[0m\u001b[1;33m]\u001b[0m \u001b[1;32mfor\u001b[0m \u001b[0mn\u001b[0m \u001b[1;32min\u001b[0m \u001b[0mnames\u001b[0m\u001b[1;33m}\u001b[0m\u001b[1;33m\u001b[0m\u001b[0m\n\u001b[0;32m      5\u001b[0m     \u001b[1;32mreturn\u001b[0m \u001b[0mndata\u001b[0m\u001b[1;33m\u001b[0m\u001b[0m\n",
      "\u001b[1;32m/home/zulfikar/anaconda2/envs/graphlab/lib/python2.7/site-packages/scipy/io/matlab/mio.pyc\u001b[0m in \u001b[0;36mloadmat\u001b[1;34m(file_name, mdict, appendmat, **kwargs)\u001b[0m\n\u001b[0;32m    132\u001b[0m     \"\"\"\n\u001b[0;32m    133\u001b[0m     \u001b[0mvariable_names\u001b[0m \u001b[1;33m=\u001b[0m \u001b[0mkwargs\u001b[0m\u001b[1;33m.\u001b[0m\u001b[0mpop\u001b[0m\u001b[1;33m(\u001b[0m\u001b[1;34m'variable_names'\u001b[0m\u001b[1;33m,\u001b[0m \u001b[0mNone\u001b[0m\u001b[1;33m)\u001b[0m\u001b[1;33m\u001b[0m\u001b[0m\n\u001b[1;32m--> 134\u001b[1;33m     \u001b[0mMR\u001b[0m \u001b[1;33m=\u001b[0m \u001b[0mmat_reader_factory\u001b[0m\u001b[1;33m(\u001b[0m\u001b[0mfile_name\u001b[0m\u001b[1;33m,\u001b[0m \u001b[0mappendmat\u001b[0m\u001b[1;33m,\u001b[0m \u001b[1;33m**\u001b[0m\u001b[0mkwargs\u001b[0m\u001b[1;33m)\u001b[0m\u001b[1;33m\u001b[0m\u001b[0m\n\u001b[0m\u001b[0;32m    135\u001b[0m     \u001b[0mmatfile_dict\u001b[0m \u001b[1;33m=\u001b[0m \u001b[0mMR\u001b[0m\u001b[1;33m.\u001b[0m\u001b[0mget_variables\u001b[0m\u001b[1;33m(\u001b[0m\u001b[0mvariable_names\u001b[0m\u001b[1;33m)\u001b[0m\u001b[1;33m\u001b[0m\u001b[0m\n\u001b[0;32m    136\u001b[0m     \u001b[1;32mif\u001b[0m \u001b[0mmdict\u001b[0m \u001b[1;32mis\u001b[0m \u001b[1;32mnot\u001b[0m \u001b[0mNone\u001b[0m\u001b[1;33m:\u001b[0m\u001b[1;33m\u001b[0m\u001b[0m\n",
      "\u001b[1;32m/home/zulfikar/anaconda2/envs/graphlab/lib/python2.7/site-packages/scipy/io/matlab/mio.pyc\u001b[0m in \u001b[0;36mmat_reader_factory\u001b[1;34m(file_name, appendmat, **kwargs)\u001b[0m\n\u001b[0;32m     55\u001b[0m        \u001b[0mtype\u001b[0m \u001b[0mdetected\u001b[0m \u001b[1;32min\u001b[0m \u001b[1;33m`\u001b[0m\u001b[0mfilename\u001b[0m\u001b[1;33m`\u001b[0m\u001b[1;33m.\u001b[0m\u001b[1;33m\u001b[0m\u001b[0m\n\u001b[0;32m     56\u001b[0m     \"\"\"\n\u001b[1;32m---> 57\u001b[1;33m     \u001b[0mbyte_stream\u001b[0m \u001b[1;33m=\u001b[0m \u001b[0m_open_file\u001b[0m\u001b[1;33m(\u001b[0m\u001b[0mfile_name\u001b[0m\u001b[1;33m,\u001b[0m \u001b[0mappendmat\u001b[0m\u001b[1;33m)\u001b[0m\u001b[1;33m\u001b[0m\u001b[0m\n\u001b[0m\u001b[0;32m     58\u001b[0m     \u001b[0mmjv\u001b[0m\u001b[1;33m,\u001b[0m \u001b[0mmnv\u001b[0m \u001b[1;33m=\u001b[0m \u001b[0mget_matfile_version\u001b[0m\u001b[1;33m(\u001b[0m\u001b[0mbyte_stream\u001b[0m\u001b[1;33m)\u001b[0m\u001b[1;33m\u001b[0m\u001b[0m\n\u001b[0;32m     59\u001b[0m     \u001b[1;32mif\u001b[0m \u001b[0mmjv\u001b[0m \u001b[1;33m==\u001b[0m \u001b[1;36m0\u001b[0m\u001b[1;33m:\u001b[0m\u001b[1;33m\u001b[0m\u001b[0m\n",
      "\u001b[1;32m/home/zulfikar/anaconda2/envs/graphlab/lib/python2.7/site-packages/scipy/io/matlab/mio.pyc\u001b[0m in \u001b[0;36m_open_file\u001b[1;34m(file_like, appendmat)\u001b[0m\n\u001b[0;32m     21\u001b[0m     \u001b[1;32mif\u001b[0m \u001b[0misinstance\u001b[0m\u001b[1;33m(\u001b[0m\u001b[0mfile_like\u001b[0m\u001b[1;33m,\u001b[0m \u001b[0mstring_types\u001b[0m\u001b[1;33m)\u001b[0m\u001b[1;33m:\u001b[0m\u001b[1;33m\u001b[0m\u001b[0m\n\u001b[0;32m     22\u001b[0m         \u001b[1;32mtry\u001b[0m\u001b[1;33m:\u001b[0m\u001b[1;33m\u001b[0m\u001b[0m\n\u001b[1;32m---> 23\u001b[1;33m             \u001b[1;32mreturn\u001b[0m \u001b[0mopen\u001b[0m\u001b[1;33m(\u001b[0m\u001b[0mfile_like\u001b[0m\u001b[1;33m,\u001b[0m \u001b[1;34m'rb'\u001b[0m\u001b[1;33m)\u001b[0m\u001b[1;33m\u001b[0m\u001b[0m\n\u001b[0m\u001b[0;32m     24\u001b[0m         \u001b[1;32mexcept\u001b[0m \u001b[0mIOError\u001b[0m \u001b[1;32mas\u001b[0m \u001b[0me\u001b[0m\u001b[1;33m:\u001b[0m\u001b[1;33m\u001b[0m\u001b[0m\n\u001b[0;32m     25\u001b[0m             \u001b[1;32mif\u001b[0m \u001b[0mappendmat\u001b[0m \u001b[1;32mand\u001b[0m \u001b[1;32mnot\u001b[0m \u001b[0mfile_like\u001b[0m\u001b[1;33m.\u001b[0m\u001b[0mendswith\u001b[0m\u001b[1;33m(\u001b[0m\u001b[1;34m'.mat'\u001b[0m\u001b[1;33m)\u001b[0m\u001b[1;33m:\u001b[0m\u001b[1;33m\u001b[0m\u001b[0m\n",
      "\u001b[1;31mIOError\u001b[0m: [Errno 2] No such file or directory: '../input/train_1/1_1_1.mat'"
     ]
    }
   ],
   "source": [
    "feat = calculate_features('../input/train_1/1_1_1.mat')\n",
    "print(feat)\n",
    "print(feat.shape)"
   ]
  },
  {
   "cell_type": "code",
   "execution_count": null,
   "metadata": {
    "collapsed": true
   },
   "outputs": [],
   "source": []
  }
 ],
 "metadata": {
  "kernelspec": {
   "display_name": "Python [graphlab]",
   "language": "python",
   "name": "Python [graphlab]"
  },
  "language_info": {
   "codemirror_mode": {
    "name": "ipython",
    "version": 2
   },
   "file_extension": ".py",
   "mimetype": "text/x-python",
   "name": "python",
   "nbconvert_exporter": "python",
   "pygments_lexer": "ipython2",
   "version": "2.7.12"
  }
 },
 "nbformat": 4,
 "nbformat_minor": 0
}
